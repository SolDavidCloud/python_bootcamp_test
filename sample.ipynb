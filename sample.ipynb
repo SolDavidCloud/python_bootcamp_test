{
 "cells": [
  {
   "cell_type": "markdown",
   "id": "b99c0f65-6c83-4fd7-a758-f1819d9c67c3",
   "metadata": {},
   "source": [
    "In Python we can use variables, which can store simple values, as string, numbers and booleans (yes/no values)"
   ]
  },
  {
   "cell_type": "code",
   "execution_count": null,
   "id": "3e1c23b0-5770-465c-ad9d-df64a7118f74",
   "metadata": {},
   "outputs": [],
   "source": [
    "name = \"david\"\n",
    "age = 50\n",
    "married = True"
   ]
  },
  {
   "cell_type": "markdown",
   "id": "5f7deabd-e781-4300-a437-dfcbdb8b6456",
   "metadata": {},
   "source": [
    "We can use and display those values"
   ]
  },
  {
   "cell_type": "code",
   "execution_count": null,
   "id": "76247872-f413-4604-b89d-3c874170546a",
   "metadata": {},
   "outputs": [],
   "source": [
    "print(name)\n",
    "print(name + \" is \" + str(age) + \" years old\")\n",
    "if married:\n",
    "    print(\"And he is married\")\n",
    "else:\n",
    "    print(\"And he is single\")"
   ]
  },
  {
   "cell_type": "markdown",
   "id": "0da8f7d1-3b73-4227-8b53-984e17445160",
   "metadata": {},
   "source": [
    "In Jupyter Notebooks (not in normal Python programs) if a cell ends in an expression, the expression gets displayed"
   ]
  },
  {
   "cell_type": "code",
   "execution_count": null,
   "id": "1a47d6d1-2ac0-485c-ac4a-5981ef37bc2f",
   "metadata": {},
   "outputs": [],
   "source": [
    "name"
   ]
  },
  {
   "cell_type": "code",
   "execution_count": null,
   "id": "6c896f53-f794-4ea1-acd1-055bb92a3627",
   "metadata": {},
   "outputs": [],
   "source": [
    "name.upper()"
   ]
  },
  {
   "cell_type": "markdown",
   "id": "97875186-7363-4986-b4e2-3e2db9404c21",
   "metadata": {},
   "source": [
    "You can also have lists of values"
   ]
  },
  {
   "cell_type": "code",
   "execution_count": null,
   "id": "524ec5e1-957e-4efb-95ca-42ff94bea75f",
   "metadata": {},
   "outputs": [],
   "source": [
    "hobbies = [\"Books\", \"Movies\", \"Computers\"]\n",
    "hobbies"
   ]
  },
  {
   "cell_type": "markdown",
   "id": "bd10ea6c-985b-4442-a84c-546a1a1eb9ff",
   "metadata": {},
   "source": [
    "And you can have dictionaries, an object with several keys and the corresponding value for that key\n",
    "Similar to a record in a database"
   ]
  },
  {
   "cell_type": "code",
   "execution_count": null,
   "id": "142f76bb-4420-4186-ac8f-043e0a31f265",
   "metadata": {},
   "outputs": [],
   "source": [
    "david = {\n",
    "    \"first_name\": \"david\",\n",
    "    \"last_ name\": \"sol\",\n",
    "    \"age\": 50,\n",
    "    \"married\": True\n",
    "}\n",
    "david"
   ]
  },
  {
   "cell_type": "markdown",
   "id": "8bdc1a73-73ca-40ec-8428-0ff16a813adc",
   "metadata": {},
   "source": [
    "You can even have \"complex\" data"
   ]
  },
  {
   "cell_type": "code",
   "execution_count": null,
   "id": "1e1db09c-49ac-43a8-aa86-58641408b74f",
   "metadata": {},
   "outputs": [],
   "source": [
    "david[\"hobbies\"] = hobbies\n",
    "david"
   ]
  },
  {
   "cell_type": "markdown",
   "id": "ce93be22-c507-44c3-a619-34ee8c5dcd75",
   "metadata": {},
   "source": [
    "Dictionaries can be exported or imported from JSON, a format to interchange information (like comma-separated value files or XML)"
   ]
  },
  {
   "cell_type": "code",
   "execution_count": null,
   "id": "405c6612-9f00-46e8-a625-d04453807fff",
   "metadata": {},
   "outputs": [],
   "source": [
    "import json\n",
    "json.dumps(david)"
   ]
  },
  {
   "cell_type": "markdown",
   "id": "ae65636a-cb42-473a-88fc-6447bc4fc0f1",
   "metadata": {},
   "source": [
    "Woth `import` you can add modules with a lot of code into Python"
   ]
  },
  {
   "cell_type": "code",
   "execution_count": null,
   "id": "2af68669-54bc-4705-b41b-2957da92640e",
   "metadata": {},
   "outputs": [],
   "source": [
    "import this"
   ]
  },
  {
   "cell_type": "markdown",
   "id": "34db6654-0d42-40e2-ad88-d6cafca8518c",
   "metadata": {},
   "source": []
  },
  {
   "cell_type": "markdown",
   "id": "4e39a176-59b0-4703-a12d-14fe59f210ea",
   "metadata": {},
   "source": [
    "The `boto3` module let you use Amazon Web Services (AWS) in a very simple way"
   ]
  },
  {
   "cell_type": "code",
   "execution_count": null,
   "id": "77b8eb3c-f12a-428d-9323-0073c2206d27",
   "metadata": {},
   "outputs": [],
   "source": [
    "import boto3"
   ]
  },
  {
   "cell_type": "markdown",
   "id": "5c779db5-fa25-48ef-9cdc-c8732349a3ef",
   "metadata": {},
   "source": [
    "We need and Access Key Id and Access Key Secret to authenticate, use yours or ask for it to your instructor"
   ]
  },
  {
   "cell_type": "markdown",
   "id": "9be6114a-d3be-427d-9fe7-eeb0b6116b81",
   "metadata": {},
   "source": [
    "## WARNING: You should NEVER store credentials in a repository. Don't save the notebook with the credentials"
   ]
  },
  {
   "cell_type": "code",
   "execution_count": null,
   "id": "c48268f4-470c-4246-bb7d-ef987a52a993",
   "metadata": {},
   "outputs": [],
   "source": [
    "access_id = \"\"\n",
    "secret_key = \"\""
   ]
  },
  {
   "cell_type": "markdown",
   "id": "0f716f79-bfd0-4fdf-8623-e2867ac87422",
   "metadata": {},
   "source": [
    "We open a session"
   ]
  },
  {
   "cell_type": "code",
   "execution_count": null,
   "id": "03a2e586-9700-4962-8eb5-0b4862d19caf",
   "metadata": {},
   "outputs": [],
   "source": [
    "aws_session = boto3.Session(\n",
    "    aws_access_key_id = access_id,\n",
    "    aws_secret_access_key = secret_key,\n",
    "    region_name = \"us-west-2\"\n",
    ")"
   ]
  },
  {
   "cell_type": "markdown",
   "id": "a6c1910a-8795-4949-a9fb-9335dac8aa6b",
   "metadata": {},
   "source": [
    "We open a client to the Rekognition service, Artificial Intelligence vision"
   ]
  },
  {
   "cell_type": "code",
   "execution_count": null,
   "id": "8becd3f3-bc4e-4eb9-afca-61db68255a05",
   "metadata": {},
   "outputs": [],
   "source": [
    "rekognition_client = aws_session.client('rekognition')"
   ]
  },
  {
   "cell_type": "markdown",
   "id": "04ff706a-07b2-4971-8d3b-d35a225d8a86",
   "metadata": {},
   "source": [
    "We set up the image name"
   ]
  },
  {
   "cell_type": "code",
   "execution_count": null,
   "id": "c08e807c-92a8-41df-bf7b-a00a4b6a9329",
   "metadata": {},
   "outputs": [],
   "source": [
    "image_name = \"sample.jpg\""
   ]
  },
  {
   "cell_type": "markdown",
   "id": "a527fec9-3e13-4316-ae31-c1688dd4fbff",
   "metadata": {},
   "source": [
    "We import the module for image processing"
   ]
  },
  {
   "cell_type": "code",
   "execution_count": null,
   "id": "1dac1a68-6238-4a24-8c7f-103e1aef104e",
   "metadata": {},
   "outputs": [],
   "source": [
    "from PIL import Image"
   ]
  },
  {
   "cell_type": "markdown",
   "id": "ada51083-e2a4-47aa-8e38-494fbb0b6d0b",
   "metadata": {},
   "source": [
    "We open the image, and display it"
   ]
  },
  {
   "cell_type": "code",
   "execution_count": null,
   "id": "c1d90064-b909-479f-a295-74de1afb3e62",
   "metadata": {},
   "outputs": [],
   "source": [
    "image_display = Image.open(image_name)"
   ]
  },
  {
   "cell_type": "code",
   "execution_count": null,
   "id": "cf210b4a-c7a6-454d-871b-a8c2bc8d04e9",
   "metadata": {},
   "outputs": [],
   "source": [
    "image_display"
   ]
  },
  {
   "cell_type": "markdown",
   "id": "9ff97075-7adc-464d-aa31-ac922aba86bf",
   "metadata": {},
   "source": [
    "Now we will identify objects in the image (AWS calls it \"tagging\"). We load the image and send it out to AWS for analysis"
   ]
  },
  {
   "cell_type": "code",
   "execution_count": null,
   "id": "28bb715e-cb3f-4b1f-b6d3-3e2f5aec0144",
   "metadata": {},
   "outputs": [],
   "source": [
    "with open(image_name, 'rb') as image:\n",
    "        response = rekognition_client.detect_labels(Image={'Bytes': image.read()})"
   ]
  },
  {
   "cell_type": "markdown",
   "id": "69ec723c-f679-458e-ab32-7e26416c4543",
   "metadata": {},
   "source": [
    "The response is a dictionary, with a lot of values"
   ]
  },
  {
   "cell_type": "code",
   "execution_count": null,
   "id": "b9386cb6-a3cd-43b3-a992-c53d4b6feb28",
   "metadata": {},
   "outputs": [],
   "source": [
    "print(response)"
   ]
  },
  {
   "cell_type": "markdown",
   "id": "9837ca29-fea8-479e-a1ac-afee9c940fb3",
   "metadata": {},
   "source": [
    "To better understand it we \"Pretty print\" it"
   ]
  },
  {
   "cell_type": "code",
   "execution_count": null,
   "id": "0e559a1b-ee03-42b4-8724-5c08082ebbc5",
   "metadata": {},
   "outputs": [],
   "source": [
    "from pprint import pprint"
   ]
  },
  {
   "cell_type": "code",
   "execution_count": null,
   "id": "7ce8ab85-b597-44c3-a90e-06fcc23deea7",
   "metadata": {},
   "outputs": [],
   "source": [
    "pprint(response)"
   ]
  },
  {
   "cell_type": "markdown",
   "id": "b918514f-e1b9-4c14-a8f2-ac64714867db",
   "metadata": {},
   "source": [
    "Let's concentrate in just one part.\n",
    "The identified labels are in the Label field, with is a list of dictionaries"
   ]
  },
  {
   "cell_type": "code",
   "execution_count": null,
   "id": "0ae5c0e6-3491-414e-b50f-a97739c61fa9",
   "metadata": {},
   "outputs": [],
   "source": [
    "for label in response[\"Labels\"]:\n",
    "    print(label[\"Name\"])"
   ]
  },
  {
   "cell_type": "markdown",
   "id": "2ccf084c-0e6d-4871-a4fb-8f600e399f34",
   "metadata": {},
   "source": [
    "Let's dig into the first label"
   ]
  },
  {
   "cell_type": "code",
   "execution_count": null,
   "id": "c68d152c-c3e2-479b-839d-ad04fc810e33",
   "metadata": {},
   "outputs": [],
   "source": [
    "pprint(response[\"Labels\"][0])"
   ]
  },
  {
   "cell_type": "markdown",
   "id": "f794af25-d303-4b12-b3fc-52d45ab5e5d7",
   "metadata": {},
   "source": [
    "Now the fun begins"
   ]
  },
  {
   "cell_type": "code",
   "execution_count": null,
   "id": "e84ab140-178e-46ad-9a59-53a5bb8b4112",
   "metadata": {},
   "outputs": [],
   "source": [
    "import io\n",
    "from PIL import Image, ImageDraw, ImageFont"
   ]
  },
  {
   "cell_type": "code",
   "execution_count": null,
   "id": "2ba618ab-90bf-463e-8a90-7354eb006b90",
   "metadata": {},
   "outputs": [],
   "source": [
    "font = ImageFont.truetype('Consolas', size=20)\n",
    "draw = ImageDraw.Draw(image_display)\n",
    "# Get all labels\n",
    "w, h = image_display.size"
   ]
  },
  {
   "cell_type": "code",
   "execution_count": null,
   "id": "52539932-29a2-4707-808b-b8eb9a734e79",
   "metadata": {},
   "outputs": [],
   "source": [
    "name = response[\"Labels\"][0][\"Name\"]\n",
    "print(name)\n",
    "instance = response[\"Labels\"][0][\"Instances\"][0]\n",
    "pprint(instance)"
   ]
  },
  {
   "cell_type": "code",
   "execution_count": null,
   "id": "608a4029-4ace-411f-a96f-93e0e38ea643",
   "metadata": {},
   "outputs": [],
   "source": [
    "bbox = instance['BoundingBox']\n",
    "x0 = int(bbox['Left'] * w) \n",
    "y0 = int(bbox['Top'] * h)\n",
    "x1 = x0 + int(bbox['Width'] * w)\n",
    "y1 = y0 + int(bbox['Height'] * h)\n",
    "draw.rectangle([x0, y0, x1, y1], outline=(255, 0, 0), width=2)\n",
    "draw.text((x0, y0), name, font=font, fill=(0, 255, 255))\n",
    "image_display"
   ]
  },
  {
   "cell_type": "code",
   "execution_count": null,
   "id": "2ea5f0b9-db0e-4aa8-ac26-5fe52b2e52b7",
   "metadata": {},
   "outputs": [],
   "source": [
    "for label in response['Labels']:\n",
    "    name = label['Name']\n",
    "    # Draw all instancex box, if any\n",
    "    for instance in label['Instances']:\n",
    "        bbox = instance['BoundingBox']\n",
    "        x0 = int(bbox['Left'] * w) \n",
    "        y0 = int(bbox['Top'] * h)\n",
    "        x1 = x0 + int(bbox['Width'] * w)\n",
    "        y1 = y0 + int(bbox['Height'] * h)\n",
    "        draw.rectangle([x0, y0, x1, y1], outline=(255, 0, 0), width=2)\n",
    "        draw.text((x0, y0), name, font=font, fill=(0, 255, 255))"
   ]
  },
  {
   "cell_type": "code",
   "execution_count": null,
   "id": "586e8c86-267b-48b8-bf91-b6ebef3a6af9",
   "metadata": {},
   "outputs": [],
   "source": [
    "image_display"
   ]
  },
  {
   "cell_type": "code",
   "execution_count": null,
   "id": "45f0e4c0-31d5-4f7a-8626-aece82eb1c54",
   "metadata": {},
   "outputs": [],
   "source": [
    "image_display.save('labels.jpg')"
   ]
  },
  {
   "cell_type": "code",
   "execution_count": null,
   "id": "b21f8e7a-e17f-498c-8392-ed75154738a4",
   "metadata": {},
   "outputs": [],
   "source": []
  }
 ],
 "metadata": {
  "kernelspec": {
   "display_name": "Python 3 (ipykernel)",
   "language": "python",
   "name": "python3"
  },
  "language_info": {
   "codemirror_mode": {
    "name": "ipython",
    "version": 3
   },
   "file_extension": ".py",
   "mimetype": "text/x-python",
   "name": "python",
   "nbconvert_exporter": "python",
   "pygments_lexer": "ipython3",
   "version": "3.10.4"
  }
 },
 "nbformat": 4,
 "nbformat_minor": 5
}
